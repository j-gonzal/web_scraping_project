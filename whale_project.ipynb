{
 "cells": [
  {
   "cell_type": "code",
   "execution_count": 10,
   "metadata": {},
   "outputs": [
    {
     "data": {
      "text/plain": [
       "'ADAGE CAPITAL PARTNERS GP, L.L.C.\\n25,000 $984,000 0.00 0.01 661 65,000 0.0198% 13F 2019-03-31 2019-05-15'"
      ]
     },
     "execution_count": 10,
     "metadata": {},
     "output_type": "execute_result"
    }
   ],
   "source": [
    "import selenium\n",
    "from selenium import webdriver\n",
    "import time \n",
    "import re\n",
    "\n",
    "driver = webdriver.Chrome(r'C:\\Users\\Jose Gonzalez\\Desktop\\NYCDSA\\chromedriver_win32\\chromedriver.exe')\n",
    "\n",
    "driver.get('https://whalewisdom.com/stock/plan')\n",
    "\n",
    "time.sleep(4)\n",
    "\n",
    "driver.find_element_by_xpath('//*[@id=\"listings_table\"]/tbody/tr[1]').text # driver.find_elements_by_xpath won't work"
   ]
  },
  {
   "cell_type": "code",
   "execution_count": 23,
   "metadata": {},
   "outputs": [
    {
     "name": "stdout",
     "output_type": "stream",
     "text": [
      "Scraping Page number 1\n",
      "{}\n",
      "Scraping Page number 2\n",
      "{}\n",
      "Scraping Page number 3\n",
      "{}\n",
      "Scraping Page number 4\n",
      "{}\n",
      "Scraping Page number 5\n",
      "{}\n",
      "Scraping Page number 6\n",
      "{}\n",
      "Scraping Page number 7\n",
      "{}\n"
     ]
    }
   ],
   "source": [
    "import selenium\n",
    "from selenium.webdriver.common.by import By\n",
    "from selenium.webdriver.support.ui import WebDriverWait\n",
    "from selenium.webdriver.support import expected_conditions as EC\n",
    "from selenium import webdriver\n",
    "import time\n",
    "import csv\n",
    "import re\n",
    "\n",
    "driver = webdriver.Chrome(r'C:\\Users\\Jose Gonzalez\\Desktop\\NYCDSA\\chromedriver_win32\\chromedriver.exe')\n",
    "\n",
    "driver.get(\"https://whalewisdom.com/stock/plan\")\n",
    "\n",
    "csv_file = open('table.csv', 'w', encoding='utf-8')\n",
    "writer = csv.writer(csv_file)\n",
    "\n",
    "\n",
    "index = 1\n",
    "\n",
    "while index <= 7:\n",
    "    try:\n",
    "        print(\"Scraping Page number \" + str(index))\n",
    "        index = index + 1\n",
    "\n",
    "        wait_table = WebDriverWait(driver, 10)\n",
    "        table = wait_table.until(EC.presence_of_all_elements_located((By.XPATH, \n",
    "                                                                     '//*[@id=\"listings_table\"]/tbody/tr[1]')))\n",
    "        row = driver.find_element_by_xpath('//*[@id=\"listings_table\"]/tbody/tr[1]')\n",
    "\n",
    "        for row in table:\n",
    "            table_dict = {}\n",
    "#             try:\n",
    "#                 title = table.find_elements_by_xpath('//*[@id=\"listings_table\"]/tbody/tr[1]/td[1]').text\n",
    "#             except:\n",
    "#                 continue\n",
    "#             print('Title = {}'.format(title))\n",
    "            \n",
    "#             other_vals = table.find_elements_by_xpath('//*[@id=\"listings_table\"]/tbody')\n",
    "#             other_vals = [val.text for val in other_vals]\n",
    "            \n",
    "#             fund = row.find_element_by_xpath('./tr[1]/td[1]').text\n",
    "#             shares = row.find_element_by_xpath('./tr[1]/td[2]').text\n",
    "#             market_value = row.find_element_by_xpath('./tr[1]/td[4]').text\n",
    "#             portfolio_percent = row.find_element_by_xpath('./tr[1]/td[5]').text\n",
    "#             change = row.find_element_by_xpath('./tr[1]/td[6]').text\n",
    "#             ownership = row.find_element_by_xpath('./tr[1]/td[7]').text\n",
    "\n",
    "#             table_dict['fund'] = fund\n",
    "#             table_dict['shares'] = shares\n",
    "#             table_dict['market_value'] = market_value\n",
    "#             table_dict['portfolio_percent'] = portfolio_percent\n",
    "#             table_dict['change'] = change\n",
    "#             table_dict['ownership'] = ownership\n",
    "            \n",
    "            print(table_dict)\n",
    "            writer.writerow(table_dict.values())\n",
    "            \n",
    "        table_button = driver.find_element_by_xpath('//*[@id=\"holdings\"]/div/div[1]/div/div[1]/div[2]/div[2]/ul/li[9]/a')\n",
    "        table_button.click()\n",
    "    except Exception as e:\n",
    "        print(e)\n",
    "        driver.close()\n",
    "        break"
   ]
  },
  {
   "cell_type": "code",
   "execution_count": null,
   "metadata": {},
   "outputs": [],
   "source": []
  }
 ],
 "metadata": {
  "kernelspec": {
   "display_name": "Python 3",
   "language": "python",
   "name": "python3"
  },
  "language_info": {
   "codemirror_mode": {
    "name": "ipython",
    "version": 3
   },
   "file_extension": ".py",
   "mimetype": "text/x-python",
   "name": "python",
   "nbconvert_exporter": "python",
   "pygments_lexer": "ipython3",
   "version": "3.7.3"
  }
 },
 "nbformat": 4,
 "nbformat_minor": 2
}
