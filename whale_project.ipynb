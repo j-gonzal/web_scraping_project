{
 "cells": [
  {
   "cell_type": "code",
   "execution_count": null,
   "metadata": {
    "collapsed": false,
    "deletable": true,
    "editable": true
   },
   "outputs": [],
   "source": [
    "import selenium\n",
    "from selenium import webdriver\n",
    "import time \n",
    "import re\n",
    "\n",
    "driver = webdriver.Chrome(r'C:\\Users\\Jose Gonzalez\\Desktop\\NYCDSA\\chromedriver_win32\\chromedriver.exe')\n",
    "\n",
    "driver.get('https://whalewisdom.com/stock/plan')\n",
    "\n",
    "time.sleep(4)\n",
    "\n",
    "driver.find_element_by_xpath('//*[@id=\"listings_table\"]/tbody/tr[1]').text # driver.find_elements_by_xpath won't work"
   ]
  },
  {
   "cell_type": "code",
   "execution_count": null,
   "metadata": {
    "collapsed": false,
    "deletable": true,
    "editable": true
   },
   "outputs": [],
   "source": [
    "import selenium\n",
    "from selenium.webdriver.common.by import By\n",
    "from selenium.webdriver.support.ui import WebDriverWait\n",
    "from selenium.webdriver.support import expected_conditions as EC\n",
    "from selenium import webdriver\n",
    "import time\n",
    "import csv\n",
    "import re\n",
    "\n",
    "driver = webdriver.Chrome(r'C:\\Users\\Jose Gonzalez\\Desktop\\NYCDSA\\chromedriver_win32\\chromedriver.exe')\n",
    "\n",
    "driver.get(\"https://whalewisdom.com/stock/plan\")\n",
    "\n",
    "csv_file = open('table.csv', 'w', encoding='utf-8', newline='')\n",
    "writer = csv.writer(csv_file)\n",
    "\n",
    "\n",
    "index = 1\n",
    "while index <= 7:\n",
    "    time.sleep(4)\n",
    "    \n",
    "    try:\n",
    "        element = driver.find_element_by_xpath('//a[@id=\"drip-close-9704\"]')\n",
    "        element.click()\n",
    "        time.sleep(1)\n",
    "    except:\n",
    "        pass\n",
    "    rows = driver.find_elements_by_xpath('//*[@id=\"listings_table\"]/tbody/tr')\n",
    "    \n",
    "    for row in rows:\n",
    "       \n",
    "        fund = row.find_element_by_xpath('./td[1]').text\n",
    "        shares = row.find_element_by_xpath('./td[2]').text\n",
    "        market_value = row.find_element_by_xpath('./td[4]').text\n",
    "        portfolio_percent = row.find_element_by_xpath('./td[5]').text\n",
    "        change = row.find_element_by_xpath('./td[6]').text\n",
    "        ownership = row.find_element_by_xpath('./td[7]').text\n",
    "\n",
    "        table_dict['fund'] = fund\n",
    "        table_dict['shares'] = shares\n",
    "        table_dict['market_value'] = market_value\n",
    "        table_dict['portfolio_percent'] = portfolio_percent\n",
    "        table_dict['change'] = change\n",
    "        table_dict['ownership'] = ownership\n",
    "\n",
    "        print(table_dict)\n",
    "        writer.writerow(table_dict.values())\n",
    "\n",
    "    table_button = driver.find_element_by_xpath('//*[@id=\"holdings\"]/div/div[1]/div/div[1]/div[2]/div[2]/ul/li[9]/a')\n",
    "    table_button.click()\n",
    "    index += 1"
   ]
  },
  {
   "cell_type": "code",
   "execution_count": null,
   "metadata": {
    "collapsed": true,
    "deletable": true,
    "editable": true
   },
   "outputs": [],
   "source": []
  },
  {
   "cell_type": "code",
   "execution_count": null,
   "metadata": {
    "collapsed": false,
    "deletable": true,
    "editable": true
   },
   "outputs": [],
   "source": [
    "rows[0].find_element_by_xpath('./td[1]').text"
   ]
  },
  {
   "cell_type": "code",
   "execution_count": null,
   "metadata": {
    "collapsed": true,
    "deletable": true,
    "editable": true
   },
   "outputs": [],
   "source": [
    "import selenium\n",
    "from selenium.webdriver.common.by import By\n",
    "from selenium.webdriver.support.ui import WebDriverWait\n",
    "from selenium.webdriver.support import expected_conditions as EC\n",
    "from selenium import webdriver\n",
    "import time\n",
    "import csv\n",
    "import re\n",
    "\n",
    "driver = webdriver.Chrome(r'C:/Users/Jose Gonzalez/Desktop/NYCDSA/chromedriver_win32/chromedriver.exe')\n",
    "\n",
    "driver.get(\"https://whalewisdom.com/stock/plan\")\n",
    "\n",
    "csv_file = open('table.csv', 'w', encoding='utf-8', newline='')\n",
    "writer = csv.writer(csv_file)\n",
    "\n",
    "index = 1\n",
    "while index <= 7:\n",
    "    time.sleep(4)\n",
    "\n",
    "    try:\n",
    "        element = driver.find_element_by_xpath('//a[@id=\"drip-close-9704\"]')\n",
    "        element.click()\n",
    "        time.sleep(1)\n",
    "    except:\n",
    "        pass\n",
    "    rows = driver.find_elements_by_xpath('//*[@id=\"listings_table\"]/tbody/tr')\n",
    "\n",
    "    for row in rows:\n",
    "        fund = row.find_elements_by_xpath('./td[1]').text\n",
    "        shares = row.find_element_by_xpath('.td[2]').text\n",
    "        market_value = row.find_element_by_xpath('./td[4]').text\n",
    "        portfolio_percent = row.find_element_by_xpath('./td[5]').text\n",
    "        change = row.find_element_by_xpath('./td[6]').text\n",
    "        ownership = row.find_element_by_xpath('.td[7]').text\n",
    "\n",
    "        table_dict['fund'] = fund\n",
    "        table_dict['shares'] = shares\n",
    "        table_dict['market_value'] = market_value\n",
    "        table_dict['portfolio_percent'] = portfolio_percent\n",
    "        table_dict['change'] = change\n",
    "        table_dict['ownership'] = ownership\n",
    "\n",
    "        print(table_dict)\n",
    "        writer.writerow(table_dict.values())\n",
    "\n",
    "        table_button = driver.find_element_by_xpath('//*[@id=\"holdings\"]/div/div[1]/div/div[1]/div[2]/div[2]/ul/li[9]/a')\n",
    "        table_button.click()\n",
    "        index += 1\n",
    "\n"
   ]
  }
 ],
 "metadata": {
  "kernelspec": {
   "display_name": "Python 3",
   "language": "python",
   "name": "python3"
  },
  "language_info": {
   "codemirror_mode": {
    "name": "ipython",
    "version": 3
   },
   "file_extension": ".py",
   "mimetype": "text/x-python",
   "name": "python",
   "nbconvert_exporter": "python",
   "pygments_lexer": "ipython3",
   "version": "3.5.2"
  }
 },
 "nbformat": 4,
 "nbformat_minor": 2
}
